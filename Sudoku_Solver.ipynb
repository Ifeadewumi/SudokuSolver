{
 "cells": [
  {
   "cell_type": "markdown",
   "metadata": {},
   "source": [
    "### Following a blog post on solving every sudoku puzzle by Peter Norvig\n",
    "A Sudoku puzzle is a grid of 81 squares; Columns 1-9, Rows A - I.\n",
    "<p>Every square has exactly 3 units and 20 peers.</p>"
   ]
  },
  {
   "cell_type": "code",
   "execution_count": 19,
   "metadata": {},
   "outputs": [],
   "source": [
    "def cross(A, B):\n",
    "    \"Cross product of elements in A and elements in B.\"\n",
    "    return [a + b for a in A for b in B]\n",
    "\n",
    "digits = '123456789'\n",
    "rows = 'ABCDEFGHI'\n",
    "cols = digits\n",
    "squares = cross(rows, cols)\n",
    "unitlist = ([cross(rows, c) for c in cols] +\n",
    "           [cross(r, cols) for r in rows] +\n",
    "           [cross(rs, cs) for rs in ('ABC', 'DEF', 'GHI') for cs in ('123', '456', '789')])\n",
    "units = dict((s, [u for u in unitlist if s in u])\n",
    "            for s in squares)\n",
    "peers = dict((s, set(sum(units[s], []))-set([s]))\n",
    "            for s in squares)"
   ]
  },
  {
   "cell_type": "code",
   "execution_count": 20,
   "metadata": {},
   "outputs": [],
   "source": [
    "def test():\n",
    "    \"A set of unit tests\"\n",
    "    assert len(squares) == 81\n",
    "    assert len(unitlist) == 27\n",
    "    assert all(len(units[s]) == 3 for s in squares)\n",
    "    assert all(len(peers[s]) == 20 for s in squares)\n",
    "    assert units['C2'] == [['A2', 'B2', 'C2', 'D2', 'E2', 'F2', 'G2', 'H2', 'I2'],\n",
    "                          ['C1', 'C2', 'C3', 'C4', 'C5', 'C6', 'C7', 'C8', 'C9'],\n",
    "                          ['A1', 'A2', 'A3', 'B1', 'B2', 'B3', 'C1', 'C2', 'C3']]\n",
    "    assert peers['C2'] == set(['A2', 'B2', 'D2', 'E2', 'F2', 'G2', 'H2', 'I2',\n",
    "                              'C1', 'C3', 'C4', 'C5', 'C6', 'C7', 'C8', 'C9',\n",
    "                              'A1', 'A3', 'B1', 'B3'])\n",
    "    print ('All tests pass.')"
   ]
  },
  {
   "cell_type": "code",
   "execution_count": 21,
   "metadata": {},
   "outputs": [],
   "source": [
    "def parse_grid(grid):\n",
    "    \"\"\"Convert grid to a dict of possible values, {square: digits}, or\n",
    "    return False if a contradiction is detected.\"\"\"\n",
    "    ## To start, every square can be any digit; then assign values from the grid.\n",
    "    values = dict((s, digits) for s in squares)\n",
    "    for s, d in grid_values(grid).items():\n",
    "        if d in digits and not assign(values, s, d):\n",
    "            return False ## (Fail if we can't assign d to square s.)\n",
    "    return values\n",
    "\n",
    "def grid_values(grid):\n",
    "    \"Convert grid into a dict of {square: char} with '0' or '.' for empties.\"\n",
    "    chars = [c for c in grid if c in digits or c in '0.']\n",
    "    assert len(chars) == 81\n",
    "    return dict(zip(squares, chars))"
   ]
  },
  {
   "cell_type": "markdown",
   "metadata": {},
   "source": [
    "### Constraint Propagation"
   ]
  },
  {
   "cell_type": "code",
   "execution_count": 22,
   "metadata": {},
   "outputs": [],
   "source": [
    "def assign(values, s, d):\n",
    "    \"\"\"Eliminate all the other values (except d) from values[s] and propagate.\n",
    "    Return values, except return False if a contradiction is detected.\"\"\"\n",
    "    other_values = values[s].replace(d, '')\n",
    "    if all(eliminate(values, s, d2) for d2 in other_values):\n",
    "        return values\n",
    "    else:\n",
    "        return False\n",
    "    \n",
    "def eliminate(values, s, d):\n",
    "    \"\"\"Eliminate d from values[s]; propagate when values or places <= 2.\n",
    "    Return values, except return False if a contradiction is detected.\"\"\"\n",
    "    if d not in values[s]:\n",
    "        return values ## Already eliminated\n",
    "    values[s] = values[s].replace(d, '')\n",
    "    ## (1) If a square s is reduced to one value d2, then eliminate d2 from the peers.\n",
    "    if len(values[s]) == 0:\n",
    "        return False ## Contradiction: removed last value\n",
    "    elif len(values[s]) == 1:\n",
    "        d2 = values[s]\n",
    "        if not all(eliminate(values, s2, d2) for s2 in peers[s]):\n",
    "            return False\n",
    "    ## (2) If a unit u is reduced to only one place for the value d, then put it there.\n",
    "    for u in units[s]:\n",
    "        dplaces = [s for s in u if d in values[s]]\n",
    "        if len(dplaces) == 0:\n",
    "            return False ## Contradiction: no place for this value\n",
    "        elif len(dplaces) == 1:\n",
    "            # d can only be in one place in unit; assign it there\n",
    "            if not assign(values, dplaces[0], d):\n",
    "                return False\n",
    "    return values"
   ]
  },
  {
   "cell_type": "code",
   "execution_count": 23,
   "metadata": {},
   "outputs": [],
   "source": [
    "def display(values):\n",
    "    \"Display these values as a 2-D grid.\"\n",
    "    width = 1 + max(len(values[s]) for s in squares)\n",
    "    line = '+'.join(['-'*(width*3)]*3)\n",
    "    for r in rows:\n",
    "        print(''.join(values[r+c].center(width)+('|' if c in '36' else '')\n",
    "                     for c in cols))\n",
    "        if r in 'CF': \n",
    "            print(line)\n",
    "    print"
   ]
  },
  {
   "cell_type": "code",
   "execution_count": 24,
   "metadata": {},
   "outputs": [
    {
     "name": "stdout",
     "output_type": "stream",
     "text": [
      "4 8 3 |9 2 1 |6 5 7 \n",
      "9 6 7 |3 4 5 |8 2 1 \n",
      "2 5 1 |8 7 6 |4 9 3 \n",
      "------+------+------\n",
      "5 4 8 |1 3 2 |9 7 6 \n",
      "7 2 9 |5 6 4 |1 3 8 \n",
      "1 3 6 |7 9 8 |2 4 5 \n",
      "------+------+------\n",
      "3 7 2 |6 8 9 |5 1 4 \n",
      "8 1 4 |2 5 3 |7 6 9 \n",
      "6 9 5 |4 1 7 |3 8 2 \n"
     ]
    }
   ],
   "source": [
    "#Let's try to solve a grid\n",
    "grid1 = '003020600900305001001806400008102900700000008006708200002609500800203009005010300' \n",
    "display(parse_grid(grid1))"
   ]
  },
  {
   "cell_type": "code",
   "execution_count": 25,
   "metadata": {},
   "outputs": [],
   "source": [
    "def solve(grid): return search(parse_grid(grid))\n",
    "\n",
    "def search(values):\n",
    "    \"Using depth-first search and propagation, try all possible values.\"\n",
    "    if values is False:\n",
    "        return False ## Failed earlier\n",
    "    if all(len(values[s]) == 1 for s in squares):\n",
    "        return values ## Solved!\n",
    "    ## Chose the unfilled square s with the fewest possibilities\n",
    "    n, s = min((len(values[s]), s) for s in squares if len(values[s]) > 1)\n",
    "    return some(search(assign(values.copy(), s, d))\n",
    "               for d in values[s])\n",
    "\n",
    "def some(seq):\n",
    "    \"Return some element of seq that is true.\"\n",
    "    for e in seq:\n",
    "        if e: return e\n",
    "    return False"
   ]
  },
  {
   "cell_type": "code",
   "execution_count": 30,
   "metadata": {},
   "outputs": [
    {
     "name": "stdout",
     "output_type": "stream",
     "text": [
      "All tests pass.\n"
     ]
    },
    {
     "name": "stderr",
     "output_type": "stream",
     "text": [
      "C:\\Users\\User\\anaconda3\\lib\\site-packages\\ipykernel_launcher.py:7: DeprecationWarning: time.clock has been deprecated in Python 3.3 and will be removed from Python 3.8: use time.perf_counter or time.process_time instead\n",
      "  import sys\n"
     ]
    },
    {
     "name": "stdout",
     "output_type": "stream",
     "text": [
      "Solved 95 of 95 hard puzzles (avg 0.02 secs (41 Hz), max 0.15 secs).\n",
      "Solved 11 of 11 hardest puzzles (avg 0.01 secs (93 Hz), max 0.02 secs).\n",
      "Solved 99 of 99 random puzzles (avg 0.01 secs (157 Hz), max 0.01 secs).\n"
     ]
    },
    {
     "name": "stderr",
     "output_type": "stream",
     "text": [
      "C:\\Users\\User\\anaconda3\\lib\\site-packages\\ipykernel_launcher.py:9: DeprecationWarning: time.clock has been deprecated in Python 3.3 and will be removed from Python 3.8: use time.perf_counter or time.process_time instead\n",
      "  if __name__ == '__main__':\n"
     ]
    }
   ],
   "source": [
    "import time, random\n",
    "def solve_all(grids, name='', showif=0.0):\n",
    "    \"\"\"Attempt to solve a sequence of grids. Report results.\n",
    "    When showif is a number of seconds, display puzzles that take longer.\n",
    "    When showif is None, don't display any puzzles.\"\"\"\n",
    "    def time_solve(grid):\n",
    "        start = time.clock()\n",
    "        values = solve(grid)\n",
    "        t = time.clock() - start\n",
    "        ## Display puzzles that take long enough\n",
    "        if showif is not None and t > showif:\n",
    "            display(grid_values(grid))\n",
    "            if values: display(values)\n",
    "            print('(%.2f seconds)\\n' % t)\n",
    "        return (t, solved(values))\n",
    "    \n",
    "    times, results = zip(*[time_solve(grid) for grid in grids])\n",
    "    N = len(grids)\n",
    "    if N > 1:\n",
    "        print(\"Solved %d of %d %s puzzles (avg %.2f secs (%d Hz), max %.2f secs).\" % (sum(results), N, name, sum(times)/N, N/sum(times), max(times)))\n",
    "        \n",
    "def solved(values):\n",
    "    \"A puzzle is solved if each unit is a permutation of the digits 1 to 9.\"\n",
    "    def unitsolved(unit): return set(values[s] for s in unit) == set(digits)\n",
    "    return values is not False and all(unitsolved(unit) for unit in unitlist)\n",
    "\n",
    "def from_file(filename, sep='\\n'):\n",
    "    \"Parse a file into a list of strings, separated by sep.\"\n",
    "    with open(filename) as filename:\n",
    "        return filename.read().strip().split(sep)\n",
    "\n",
    "def random_puzzle(N=17):\n",
    "    \"\"\"Make a random puzzle with N or more assignments. Restart on contradictions.\n",
    "    Note the resulting puzzle is not guaranteed to be solvable, but empirically \n",
    "    about 99.8% of tem are solvable. Some have multiple solutions.\"\"\"\n",
    "    values = dict((s, digits) for s in squares)\n",
    "    for s in shuffled(squares):\n",
    "        if not assign(values, s, random.choice(values[s])):\n",
    "            break\n",
    "        ds = [values[s] for s in squares if len(values[s]) == 1]\n",
    "        if len(ds) >= N and len(set(ds)) >= 8:\n",
    "            return ''.join(values[s] if len(values[s]) == 1 else '.' for s in squares)\n",
    "    return random_puzzle(N) ## Give up and make a new puzzle\n",
    "\n",
    "def shuffled(seq):\n",
    "    \"Return a randomly shuffled copy of the input sequence.\"\n",
    "    seq = list(seq)\n",
    "    random.shuffle(seq)\n",
    "    return seq\n",
    "\n",
    "if __name__ == '__main__':\n",
    "    test()\n",
    "   # solve_all(from_file(\"easy50.txt\", '========'), \"easy\", None)\n",
    "    solve_all(from_file(\"top95.txt\"), \"hard\", None)\n",
    "    solve_all(from_file(\"hardest.txt\"), \"hardest\", None)\n",
    "    solve_all([random_puzzle() for _ in range(99)], \"random\", 100.0)"
   ]
  },
  {
   "cell_type": "code",
   "execution_count": 33,
   "metadata": {},
   "outputs": [
    {
     "name": "stdout",
     "output_type": "stream",
     "text": [
      "All tests pass.\n"
     ]
    },
    {
     "name": "stderr",
     "output_type": "stream",
     "text": [
      "C:\\Users\\User\\anaconda3\\lib\\site-packages\\ipykernel_launcher.py:8: DeprecationWarning: time.clock has been deprecated in Python 3.3 and will be removed from Python 3.8: use time.perf_counter or time.process_time instead\n",
      "  \n",
      "C:\\Users\\User\\anaconda3\\lib\\site-packages\\ipykernel_launcher.py:10: DeprecationWarning: time.clock has been deprecated in Python 3.3 and will be removed from Python 3.8: use time.perf_counter or time.process_time instead\n",
      "  # Remove the CWD from sys.path while we load stuff.\n"
     ]
    },
    {
     "name": "stdout",
     "output_type": "stream",
     "text": [
      "Solved 95 of 95 hard puzzles (avg 0.02 secs (48 Hz), max 0.10 secs).\n",
      "Solved 11 of 11 hardest puzzles (avg 0.01 secs (138 Hz), max 0.01 secs).\n",
      "Solved 99 of 99 random puzzles (avg 0.01 secs (152 Hz), max 0.01 secs).\n"
     ]
    }
   ],
   "source": [
    "import time, random\n",
    "\n",
    "def solve_all(grids, name='', showif=0.0):\n",
    "    \"\"\"Attempt to solve a sequence of grids. Report results.\n",
    "    When showif is a number of seconds, display puzzles that take longer.\n",
    "    When showif is None, don't display any puzzles.\"\"\"\n",
    "    def time_solve(grid):\n",
    "        start = time.clock()\n",
    "        values = solve(grid)\n",
    "        t = time.clock()-start\n",
    "        ## Display puzzles that take long enough\n",
    "        if showif is not None and t > showif:\n",
    "            display(grid_values(grid))\n",
    "            if values: display(values)\n",
    "            print ('(%.2f seconds)\\n' % t)\n",
    "        return (t, solved(values))\n",
    "    times, results = zip(*[time_solve(grid) for grid in grids])\n",
    "    N = len(grids)\n",
    "    if N > 1:\n",
    "        print (\"Solved %d of %d %s puzzles (avg %.2f secs (%d Hz), max %.2f secs).\" % (\n",
    "            sum(results), N, name, sum(times)/N, N/sum(times), max(times)))\n",
    "\n",
    "def solved(values):\n",
    "    \"A puzzle is solved if each unit is a permutation of the digits 1 to 9.\"\n",
    "    def unitsolved(unit): return set(values[s] for s in unit) == set(digits)\n",
    "    return values is not False and all(unitsolved(unit) for unit in unitlist)\n",
    "\n",
    "def from_file(filename, sep='\\n'):\n",
    "    \"Parse a file into a list of strings, separated by sep.\"\n",
    "    with open(filename) as filename:\n",
    "        return filename.read().strip().split(sep)\n",
    "\n",
    "def random_puzzle(N=17):\n",
    "    \"\"\"Make a random puzzle with N or more assignments. Restart on contradictions.\n",
    "    Note the resulting puzzle is not guaranteed to be solvable, but empirically\n",
    "    about 99.8% of them are solvable. Some have multiple solutions.\"\"\"\n",
    "    values = dict((s, digits) for s in squares)\n",
    "    for s in shuffled(squares):\n",
    "        if not assign(values, s, random.choice(values[s])):\n",
    "            break\n",
    "        ds = [values[s] for s in squares if len(values[s]) == 1]\n",
    "        if len(ds) >= N and len(set(ds)) >= 8:\n",
    "            return ''.join(values[s] if len(values[s])==1 else '.' for s in squares)\n",
    "    return random_puzzle(N) ## Give up and make a new puzzle\n",
    "\n",
    "def shuffled(seq):\n",
    "    \"Return a randomly shuffled copy of the input sequence.\"\n",
    "    seq = list(seq)\n",
    "    random.shuffle(seq)\n",
    "    return seq\n",
    "\n",
    "grid1  = '003020600900305001001806400008102900700000008006708200002609500800203009005010300'\n",
    "grid2  = '4.....8.5.3..........7......2.....6.....8.4......1.......6.3.7.5..2.....1.4......'\n",
    "hard1  = '.....6....59.....82....8....45........3........6..3.54...325..6..................'\n",
    "    \n",
    "if __name__ == '__main__':\n",
    "    test()\n",
    "   # solve_all(from_file(\"easy50.txt\", '========'), \"easy\", None)\n",
    "    solve_all(from_file(\"top95.txt\"), \"hard\", None)\n",
    "    solve_all(from_file(\"hardest.txt\"), \"hardest\", None)\n",
    "    solve_all([random_puzzle() for _ in range(99)], \"random\", 100.0)"
   ]
  },
  {
   "cell_type": "code",
   "execution_count": null,
   "metadata": {},
   "outputs": [],
   "source": []
  }
 ],
 "metadata": {
  "kernelspec": {
   "display_name": "Python 3",
   "language": "python",
   "name": "python3"
  },
  "language_info": {
   "codemirror_mode": {
    "name": "ipython",
    "version": 3
   },
   "file_extension": ".py",
   "mimetype": "text/x-python",
   "name": "python",
   "nbconvert_exporter": "python",
   "pygments_lexer": "ipython3",
   "version": "3.7.6"
  }
 },
 "nbformat": 4,
 "nbformat_minor": 4
}
